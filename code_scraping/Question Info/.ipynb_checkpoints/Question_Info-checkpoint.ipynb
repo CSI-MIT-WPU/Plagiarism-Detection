{
 "cells": [
  {
   "cell_type": "code",
   "execution_count": 39,
   "id": "e5727a6f",
   "metadata": {},
   "outputs": [],
   "source": [
    "from leetscrape import GetQuestionsList\n",
    "import pandas as pd\n",
    "import webbrowser"
   ]
  },
  {
   "cell_type": "code",
   "execution_count": 3,
   "id": "eb134418",
   "metadata": {},
   "outputs": [
    {
     "name": "stdout",
     "output_type": "stream",
     "text": [
      "Scraping companies ... Done\n",
      "Scraping questions list ... Done\n",
      "Extracting question topics ... Done\n",
      "Getting Categories ... Done\n",
      "Scraping Topic Tags ... Done\n",
      "Extracting question category ... Done\n"
     ]
    }
   ],
   "source": [
    "ls = GetQuestionsList()\n",
    "ls.scrape()\n",
    "qinfo = ls.questions"
   ]
  },
  {
   "cell_type": "code",
   "execution_count": 34,
   "id": "e85b9984",
   "metadata": {},
   "outputs": [
    {
     "data": {
      "text/html": [
       "<div>\n",
       "<style scoped>\n",
       "    .dataframe tbody tr th:only-of-type {\n",
       "        vertical-align: middle;\n",
       "    }\n",
       "\n",
       "    .dataframe tbody tr th {\n",
       "        vertical-align: top;\n",
       "    }\n",
       "\n",
       "    .dataframe thead th {\n",
       "        text-align: right;\n",
       "    }\n",
       "</style>\n",
       "<table border=\"1\" class=\"dataframe\">\n",
       "  <thead>\n",
       "    <tr style=\"text-align: right;\">\n",
       "      <th></th>\n",
       "      <th>QID</th>\n",
       "      <th>title</th>\n",
       "      <th>titleSlug</th>\n",
       "      <th>difficulty</th>\n",
       "      <th>acceptanceRate</th>\n",
       "      <th>paidOnly</th>\n",
       "      <th>topicTags</th>\n",
       "      <th>categorySlug</th>\n",
       "    </tr>\n",
       "  </thead>\n",
       "  <tbody>\n",
       "    <tr>\n",
       "      <th>2999</th>\n",
       "      <td>3000</td>\n",
       "      <td>Maximum Area of Longest Diagonal Rectangle</td>\n",
       "      <td>maximum-area-of-longest-diagonal-rectangle</td>\n",
       "      <td>Easy</td>\n",
       "      <td>34.741342</td>\n",
       "      <td>False</td>\n",
       "      <td>array</td>\n",
       "      <td>algorithms</td>\n",
       "    </tr>\n",
       "    <tr>\n",
       "      <th>3000</th>\n",
       "      <td>3001</td>\n",
       "      <td>Minimum Moves to Capture The Queen</td>\n",
       "      <td>minimum-moves-to-capture-the-queen</td>\n",
       "      <td>Medium</td>\n",
       "      <td>19.107909</td>\n",
       "      <td>False</td>\n",
       "      <td>array,enumeration</td>\n",
       "      <td>algorithms</td>\n",
       "    </tr>\n",
       "    <tr>\n",
       "      <th>3001</th>\n",
       "      <td>3002</td>\n",
       "      <td>Maximum Size of a Set After Removals</td>\n",
       "      <td>maximum-size-of-a-set-after-removals</td>\n",
       "      <td>Medium</td>\n",
       "      <td>41.909207</td>\n",
       "      <td>False</td>\n",
       "      <td>array,hash-table,greedy</td>\n",
       "      <td>algorithms</td>\n",
       "    </tr>\n",
       "    <tr>\n",
       "      <th>3002</th>\n",
       "      <td>3003</td>\n",
       "      <td>Maximize the Number of Partitions After Operat...</td>\n",
       "      <td>maximize-the-number-of-partitions-after-operat...</td>\n",
       "      <td>Hard</td>\n",
       "      <td>25.007104</td>\n",
       "      <td>False</td>\n",
       "      <td>string,dynamic-programming,bit-manipulation,bi...</td>\n",
       "      <td>algorithms</td>\n",
       "    </tr>\n",
       "    <tr>\n",
       "      <th>3003</th>\n",
       "      <td>3004</td>\n",
       "      <td>Maximum Subtree of the Same Color</td>\n",
       "      <td>maximum-subtree-of-the-same-color</td>\n",
       "      <td>Medium</td>\n",
       "      <td>68.831169</td>\n",
       "      <td>True</td>\n",
       "      <td></td>\n",
       "      <td>algorithms</td>\n",
       "    </tr>\n",
       "  </tbody>\n",
       "</table>\n",
       "</div>"
      ],
      "text/plain": [
       "       QID  ... categorySlug\n",
       "2999  3000  ...   algorithms\n",
       "3000  3001  ...   algorithms\n",
       "3001  3002  ...   algorithms\n",
       "3002  3003  ...   algorithms\n",
       "3003  3004  ...   algorithms\n",
       "\n",
       "[5 rows x 8 columns]"
      ]
     },
     "execution_count": 34,
     "metadata": {},
     "output_type": "execute_result"
    }
   ],
   "source": [
    "qinfo.tail()"
   ]
  },
  {
   "cell_type": "code",
   "execution_count": 18,
   "id": "3721bafd",
   "metadata": {},
   "outputs": [],
   "source": [
    "quesSubdir = list(qinfo['titleSlug'])"
   ]
  },
  {
   "cell_type": "code",
   "execution_count": 20,
   "id": "371f2d4b",
   "metadata": {},
   "outputs": [],
   "source": [
    "def getUrl(quesPath):\n",
    "    baseUrl='https://leetcode.com/problems/'\n",
    "    return baseUrl+quesPath+'/solutions'"
   ]
  },
  {
   "cell_type": "code",
   "execution_count": 24,
   "id": "8b93364c",
   "metadata": {},
   "outputs": [],
   "source": [
    "urlArray = list(map(getUrl,quesSubdir))"
   ]
  },
  {
   "cell_type": "code",
   "execution_count": 38,
   "id": "1b155719",
   "metadata": {},
   "outputs": [
    {
     "data": {
      "text/plain": [
       "3004"
      ]
     },
     "execution_count": 38,
     "metadata": {},
     "output_type": "execute_result"
    }
   ],
   "source": [
    "len(urlArray)"
   ]
  },
  {
   "cell_type": "code",
   "execution_count": 40,
   "id": "689bcc2f",
   "metadata": {},
   "outputs": [],
   "source": [
    "qinfo = qinfo.assign(solutionUrl=urlArray)"
   ]
  },
  {
   "cell_type": "code",
   "execution_count": 51,
   "id": "d5fc2a26",
   "metadata": {},
   "outputs": [
    {
     "data": {
      "text/plain": [
       "QID                                                            3004\n",
       "title                             Maximum Subtree of the Same Color\n",
       "titleSlug                         maximum-subtree-of-the-same-color\n",
       "difficulty                                                   Medium\n",
       "acceptanceRate                                            68.831169\n",
       "paidOnly                                                       True\n",
       "topicTags                                                          \n",
       "categorySlug                                             algorithms\n",
       "solutionUrl       https://leetcode.com/problems/maximum-subtree-...\n",
       "Name: 3003, dtype: object"
      ]
     },
     "execution_count": 51,
     "metadata": {},
     "output_type": "execute_result"
    }
   ],
   "source": [
    "qinfo.get()"
   ]
  },
  {
   "cell_type": "code",
   "execution_count": null,
   "id": "53b5d5b8",
   "metadata": {},
   "outputs": [],
   "source": [
    "questions"
   ]
  }
 ],
 "metadata": {
  "kernelspec": {
   "display_name": "Python 3 (ipykernel)",
   "language": "python",
   "name": "python3"
  },
  "language_info": {
   "codemirror_mode": {
    "name": "ipython",
    "version": 3
   },
   "file_extension": ".py",
   "mimetype": "text/x-python",
   "name": "python",
   "nbconvert_exporter": "python",
   "pygments_lexer": "ipython3",
   "version": "3.11.4"
  }
 },
 "nbformat": 4,
 "nbformat_minor": 5
}
